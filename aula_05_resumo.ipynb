{
 "cells": [
  {
   "cell_type": "code",
   "execution_count": 1,
   "metadata": {},
   "outputs": [],
   "source": [
    "%matplotlib inline\n",
    "import numpy as np\n",
    "import matplotlib\n",
    "import matplotlib.pyplot as plt\n",
    "\n",
    "RANDOM_SEED = 42\n",
    "\n",
    "np.random.seed(RANDOM_SEED)"
   ]
  },
  {
   "cell_type": "markdown",
   "metadata": {},
   "source": [
    "# MNIST\n",
    "\n",
    "A base de dados que utilizaremos é conhecida como MNIST (\"Modified National Institute of Standards and Technology\"), e deriva de uma base maior que foi construida pela NIST nos Estados Unidos (o equivalente da nossa ABNT). Esta base de dados é considerada o verdadeiro \"Hello, world!\" de métodos de classificação. Em http://yann.lecun.com/exdb/mnist/ temos uma descrição mais detalhada desta base de dados."
   ]
  },
  {
   "cell_type": "markdown",
   "metadata": {},
   "source": [
    "Nela, se encontram aproximadamente 70 mil imagens de 18 por 18 pixels. De todas essas, 60 mil são de treinamento e 10 são de teste."
   ]
  },
  {
   "cell_type": "markdown",
   "metadata": {},
   "source": [
    "Não é necessário baixar o dataset. O scikit-learn já tem ferramentas para baixar e disponibilizar alguns dos datasets mais comuns da comunidade de machine learning:"
   ]
  },
  {
   "cell_type": "code",
   "execution_count": 2,
   "metadata": {},
   "outputs": [
    {
     "data": {
      "text/plain": [
       "(       pixel1  pixel2  pixel3  pixel4  pixel5  pixel6  pixel7  pixel8  pixel9  \\\n",
       " 0           0       0       0       0       0       0       0       0       0   \n",
       " 1           0       0       0       0       0       0       0       0       0   \n",
       " 2           0       0       0       0       0       0       0       0       0   \n",
       " 3           0       0       0       0       0       0       0       0       0   \n",
       " 4           0       0       0       0       0       0       0       0       0   \n",
       " ...       ...     ...     ...     ...     ...     ...     ...     ...     ...   \n",
       " 69995       0       0       0       0       0       0       0       0       0   \n",
       " 69996       0       0       0       0       0       0       0       0       0   \n",
       " 69997       0       0       0       0       0       0       0       0       0   \n",
       " 69998       0       0       0       0       0       0       0       0       0   \n",
       " 69999       0       0       0       0       0       0       0       0       0   \n",
       " \n",
       "        pixel10  ...  pixel775  pixel776  pixel777  pixel778  pixel779  \\\n",
       " 0            0  ...         0         0         0         0         0   \n",
       " 1            0  ...         0         0         0         0         0   \n",
       " 2            0  ...         0         0         0         0         0   \n",
       " 3            0  ...         0         0         0         0         0   \n",
       " 4            0  ...         0         0         0         0         0   \n",
       " ...        ...  ...       ...       ...       ...       ...       ...   \n",
       " 69995        0  ...         0         0         0         0         0   \n",
       " 69996        0  ...         0         0         0         0         0   \n",
       " 69997        0  ...         0         0         0         0         0   \n",
       " 69998        0  ...         0         0         0         0         0   \n",
       " 69999        0  ...         0         0         0         0         0   \n",
       " \n",
       "        pixel780  pixel781  pixel782  pixel783  pixel784  \n",
       " 0             0         0         0         0         0  \n",
       " 1             0         0         0         0         0  \n",
       " 2             0         0         0         0         0  \n",
       " 3             0         0         0         0         0  \n",
       " 4             0         0         0         0         0  \n",
       " ...         ...       ...       ...       ...       ...  \n",
       " 69995         0         0         0         0         0  \n",
       " 69996         0         0         0         0         0  \n",
       " 69997         0         0         0         0         0  \n",
       " 69998         0         0         0         0         0  \n",
       " 69999         0         0         0         0         0  \n",
       " \n",
       " [70000 rows x 784 columns],\n",
       " 0        5\n",
       " 1        0\n",
       " 2        4\n",
       " 3        1\n",
       " 4        9\n",
       "         ..\n",
       " 69995    2\n",
       " 69996    3\n",
       " 69997    4\n",
       " 69998    5\n",
       " 69999    6\n",
       " Name: class, Length: 70000, dtype: int8)"
      ]
     },
     "execution_count": 2,
     "metadata": {},
     "output_type": "execute_result"
    }
   ],
   "source": [
    "from sklearn.datasets import fetch_openml\n",
    "\n",
    "mnist = fetch_openml('mnist_784', version=1, cache=True, parser='auto')\n",
    "\n",
    "# A função fetch_openml() retorna targets como strings, precisamos converter para\n",
    "# valores numéricos.\n",
    "mnist.target = mnist.target.astype(np.int8)\n",
    "\n",
    "mnist[\"data\"], mnist[\"target\"]"
   ]
  },
  {
   "cell_type": "markdown",
   "metadata": {},
   "source": [
    "No campo `data` temos as várias imagens de dígitos manuscritos. Cada item é uma lista de $28^2 = 784$ valores.\n",
    "\n",
    "No campo `target` temos o rótulo de cada uma dessas imagens."
   ]
  },
  {
   "cell_type": "code",
   "execution_count": 3,
   "metadata": {},
   "outputs": [
    {
     "name": "stdout",
     "output_type": "stream",
     "text": [
      "(70000, 784)\n",
      "(70000,)\n"
     ]
    }
   ],
   "source": [
    "# X são as imagens (em arrays) e o y são os dígitos que estão sendo representados \n",
    "X, y = mnist['data'].to_numpy(), mnist['target'].to_numpy()\n",
    "print(X.shape)\n",
    "print(y.shape)"
   ]
  },
  {
   "cell_type": "markdown",
   "metadata": {},
   "source": [
    "Vamos ver um desses dígitos manuscritos para checar se a leitura de dados funcionou:"
   ]
  },
  {
   "cell_type": "code",
   "execution_count": 4,
   "metadata": {},
   "outputs": [
    {
     "name": "stdout",
     "output_type": "stream",
     "text": [
      "label: 5\n"
     ]
    },
    {
     "data": {
      "image/png": "[encoded data removed]",
      "text/plain": [
       "<Figure size 640x480 with 1 Axes>"
      ]
     },
     "metadata": {},
     "output_type": "display_data"
    }
   ],
   "source": [
    "some_digit = X[0]\n",
    "some_digit_label = y[0]\n",
    "\n",
    "print(f'label: {some_digit_label}')\n",
    "\n",
    "some_digit_image = some_digit.reshape(28, 28)  # Por que? Explique!\n",
    "\n",
    "plt.figure()\n",
    "plt.imshow(\n",
    "    some_digit_image,\n",
    "    cmap=matplotlib.cm.binary,\n",
    "    interpolation='nearest',\n",
    ")\n",
    "plt.show()"
   ]
  },
  {
   "cell_type": "markdown",
   "metadata": {},
   "source": [
    "# Separando treinamento e teste\n",
    "\n",
    "Conforme visto na descrição do dataset MNIST, a separação entre conjunto de treinamento e teste já está feita. Neste caso, não devemos fazer a separação dos dados conforme visto na aula passada. \n",
    "\n",
    "Lembrando que as primeiras 60 mil imagens são de treinamento e as últimas 10 mil são de teste."
   ]
  },
  {
   "cell_type": "code",
   "execution_count": 5,
   "metadata": {},
   "outputs": [
    {
     "name": "stdout",
     "output_type": "stream",
     "text": [
      "0: 5923\n",
      "1: 6742\n",
      "2: 5958\n",
      "3: 6131\n",
      "4: 5842\n",
      "5: 5421\n",
      "6: 5918\n",
      "7: 6265\n",
      "8: 5851\n",
      "9: 5949\n"
     ]
    }
   ],
   "source": [
    "# vendo quanto de cada dígito você tem (pegando o \"target\" que é o dígito representado pela imagem do \"data\")\n",
    "unique, counts = np.unique(mnist['target'][:60000], return_counts=True)\n",
    "for u, c in zip(unique, counts):\n",
    "    print(f'{u}: {c}')"
   ]
  },
  {
   "cell_type": "code",
   "execution_count": 6,
   "metadata": {},
   "outputs": [],
   "source": [
    "# primeiros 60 mil\n",
    "X_train = X[:60000]\n",
    "y_train = y[:60000]\n",
    "\n",
    "# tudo após 60 mil\n",
    "X_test = X[60000:]\n",
    "y_test = y[60000:]"
   ]
  },
  {
   "cell_type": "markdown",
   "metadata": {},
   "source": [
    "# Classificação binária\n",
    "\n",
    "Vamos começar com um problema mais simples: classificar os dígitos da base em 'cincos' e 'não-cincos'. Este é um problema de classificação binária. Por mera convenção, chamaremos de 'amostras positivas', ou simplemente 'positivos' os digitos $5$ e de 'negativos' os demais dígitos.\n",
    "\n",
    "Vamos adaptar os conjuntos de treinamento e teste ao nosso cenário:"
   ]
  },
  {
   "cell_type": "code",
   "execution_count": 7,
   "metadata": {},
   "outputs": [],
   "source": [
    "y_train_5 = (y_train == 5)\n",
    "y_test_5 = (y_test == 5)"
   ]
  },
  {
   "cell_type": "markdown",
   "metadata": {},
   "source": [
    "Vamos agora treinar um classificador sobre todo o conjunto de treinamento, como fizemos na aula sobre regressão. Vamos usar um classificador chamado de *Stochastic Gradient Descent*, que é uma generalização de alguns tipos diferentes de classificadores mais tradicionais. O scikit-learn tem uma classe que implementa este classificador: `SGDClassifier`. Com os parâmetros default desta classe, o classificador SGD é equivalente a um classificador do tipo \"máquina de vetores de suporte linear\".\n",
    "\n"
   ]
  },
  {
   "cell_type": "code",
   "execution_count": 8,
   "metadata": {},
   "outputs": [
    {
     "data": {
      "text/html": [
       "<style>#sk-container-id-1 {color: black;}#sk-container-id-1 pre{padding: 0;}#sk-container-id-1 div.sk-toggleable {background-color: white;}#sk-container-id-1 label.sk-toggleable__label {cursor: pointer;display: block;width: 100%;margin-bottom: 0;padding: 0.3em;box-sizing: border-box;text-align: center;}#sk-container-id-1 label.sk-toggleable__label-arrow:before {content: \"▸\";float: left;margin-right: 0.25em;color: #696969;}#sk-container-id-1 label.sk-toggleable__label-arrow:hover:before {color: black;}#sk-container-id-1 div.sk-estimator:hover label.sk-toggleable__label-arrow:before {color: black;}#sk-container-id-1 div.sk-toggleable__content {max-height: 0;max-width: 0;overflow: hidden;text-align: left;background-color: #f0f8ff;}#sk-container-id-1 div.sk-toggleable__content pre {margin: 0.2em;color: black;border-radius: 0.25em;background-color: #f0f8ff;}#sk-container-id-1 input.sk-toggleable__control:checked~div.sk-toggleable__content {max-height: 200px;max-width: 100%;overflow: auto;}#sk-container-id-1 input.sk-toggleable__control:checked~label.sk-toggleable__label-arrow:before {content: \"▾\";}#sk-container-id-1 div.sk-estimator input.sk-toggleable__control:checked~label.sk-toggleable__label {background-color: #d4ebff;}#sk-container-id-1 div.sk-label input.sk-toggleable__control:checked~label.sk-toggleable__label {background-color: #d4ebff;}#sk-container-id-1 input.sk-hidden--visually {border: 0;clip: rect(1px 1px 1px 1px);clip: rect(1px, 1px, 1px, 1px);height: 1px;margin: -1px;overflow: hidden;padding: 0;position: absolute;width: 1px;}#sk-container-id-1 div.sk-estimator {font-family: monospace;background-color: #f0f8ff;border: 1px dotted black;border-radius: 0.25em;box-sizing: border-box;margin-bottom: 0.5em;}#sk-container-id-1 div.sk-estimator:hover {background-color: #d4ebff;}#sk-container-id-1 div.sk-parallel-item::after {content: \"\";width: 100%;border-bottom: 1px solid gray;flex-grow: 1;}#sk-container-id-1 div.sk-label:hover label.sk-toggleable__label {background-color: #d4ebff;}#sk-container-id-1 div.sk-serial::before {content: \"\";position: absolute;border-left: 1px solid gray;box-sizing: border-box;top: 0;bottom: 0;left: 50%;z-index: 0;}#sk-container-id-1 div.sk-serial {display: flex;flex-direction: column;align-items: center;background-color: white;padding-right: 0.2em;padding-left: 0.2em;position: relative;}#sk-container-id-1 div.sk-item {position: relative;z-index: 1;}#sk-container-id-1 div.sk-parallel {display: flex;align-items: stretch;justify-content: center;background-color: white;position: relative;}#sk-container-id-1 div.sk-item::before, #sk-container-id-1 div.sk-parallel-item::before {content: \"\";position: absolute;border-left: 1px solid gray;box-sizing: border-box;top: 0;bottom: 0;left: 50%;z-index: -1;}#sk-container-id-1 div.sk-parallel-item {display: flex;flex-direction: column;z-index: 1;position: relative;background-color: white;}#sk-container-id-1 div.sk-parallel-item:first-child::after {align-self: flex-end;width: 50%;}#sk-container-id-1 div.sk-parallel-item:last-child::after {align-self: flex-start;width: 50%;}#sk-container-id-1 div.sk-parallel-item:only-child::after {width: 0;}#sk-container-id-1 div.sk-dashed-wrapped {border: 1px dashed gray;margin: 0 0.4em 0.5em 0.4em;box-sizing: border-box;padding-bottom: 0.4em;background-color: white;}#sk-container-id-1 div.sk-label label {font-family: monospace;font-weight: bold;display: inline-block;line-height: 1.2em;}#sk-container-id-1 div.sk-label-container {text-align: center;}#sk-container-id-1 div.sk-container {/* jupyter's `normalize.less` sets `[hidden] { display: none; }` but bootstrap.min.css set `[hidden] { display: none !important; }` so we also need the `!important` here to be able to override the default hidden behavior on the sphinx rendered scikit-learn.org. See: https://github.com/scikit-learn/scikit-learn/issues/21755 */display: inline-block !important;position: relative;}#sk-container-id-1 div.sk-text-repr-fallback {display: none;}</style><div id=\"sk-container-id-1\" class=\"sk-top-container\"><div class=\"sk-text-repr-fallback\"><pre>SGDClassifier(max_iter=500, random_state=42)</pre><b>In a Jupyter environment, please rerun this cell to show the HTML representation or trust the notebook. <br />On GitHub, the HTML representation is unable to render, please try loading this page with nbviewer.org.</b></div><div class=\"sk-container\" hidden><div class=\"sk-item\"><div class=\"sk-estimator sk-toggleable\"><input class=\"sk-toggleable__control sk-hidden--visually\" id=\"sk-estimator-id-1\" type=\"checkbox\" checked><label for=\"sk-estimator-id-1\" class=\"sk-toggleable__label sk-toggleable__label-arrow\">SGDClassifier</label><div class=\"sk-toggleable__content\"><pre>SGDClassifier(max_iter=500, random_state=42)</pre></div></div></div></div></div>"
      ],
      "text/plain": [
       "SGDClassifier(max_iter=500, random_state=42)"
      ]
     },
     "execution_count": 8,
     "metadata": {},
     "output_type": "execute_result"
    }
   ],
   "source": [
    "from sklearn.linear_model import SGDClassifier\n",
    "\n",
    "# Existe aleatoriedade dentro do SGDClassifier, por isso o argumento \n",
    "# random_state=RANDOM_SEED.\n",
    "sgd_clf = SGDClassifier(\n",
    "    # iterações que o código realiza para montar o modelo\n",
    "    max_iter=500,\n",
    "    tol=1e-3,\n",
    "    # colocando a random seed para garantir reprodutibilidade dos dados\n",
    "    random_state=RANDOM_SEED,\n",
    ")\n",
    "\n",
    "# rodando o modelo\n",
    "sgd_clf.fit(X_train, y_train_5)"
   ]
  },
  {
   "cell_type": "markdown",
   "metadata": {},
   "source": [
    "# Validação Cruzada\n",
    "\n",
    "Podemos utilizar a estratégia de validação cruzada para melhor entendermos o desempenho do nosso modelo."
   ]
  },
  {
   "cell_type": "code",
   "execution_count": 9,
   "metadata": {},
   "outputs": [
    {
     "name": "stdout",
     "output_type": "stream",
     "text": [
      "Elapsed time: 0.546875\n",
      "[0.95035 0.96035 0.9604 ]\n"
     ]
    }
   ],
   "source": [
    "import time\n",
    "from sklearn.model_selection import cross_val_score\n",
    "\n",
    "t1 = time.process_time()\n",
    "res = cross_val_score(\n",
    "    # modelo declarado na célula acima\n",
    "    sgd_clf,\n",
    "\n",
    "    # imagens de treinamento (60 mil)\n",
    "    X_train,\n",
    "\n",
    "    # target modificado para incluir booleanos de se o número é 5 ou não\n",
    "    y_train_5,\n",
    "\n",
    "    # número de repartições da data que está chegando\n",
    "    cv=3,\n",
    "\n",
    "    # devolve a acurácia do modelo\n",
    "    scoring=\"accuracy\",\n",
    "\n",
    "    # rodar mais rápido pois utiliza todos os núcleos da CPU ao mesmo tempo\n",
    "    n_jobs=-1,\n",
    ")\n",
    "t2 = time.process_time()\n",
    "\n",
    "print('Elapsed time: {}'.format(t2 - t1))\n",
    "print(res)"
   ]
  },
  {
   "cell_type": "markdown",
   "metadata": {},
   "source": [
    "Nossa medida de acurácia é muito boa. Uma acurácia de 96% é muito alta, em termos numéricos, mas será que isso é pouco para a situação que se encontra?\n",
    "\n",
    "Por isso é necessário testarmos contra a hipótese nula. Nesse caso, teremos que observar qual é o elemento mais presente."
   ]
  },
  {
   "cell_type": "code",
   "execution_count": 10,
   "metadata": {},
   "outputs": [
    {
     "name": "stdout",
     "output_type": "stream",
     "text": [
      "[[    0 54579]\n",
      " [    1  5421]]\n"
     ]
    }
   ],
   "source": [
    "import numpy as np\n",
    "\n",
    "unique, counts = np.unique(y_train_5, return_counts=True)\n",
    "\n",
    "print(np.asarray((unique, counts)).T)"
   ]
  },
  {
   "cell_type": "markdown",
   "metadata": {},
   "source": [
    "Como visto acima, há muito mais números que não são 5 do que números que são cinco. A proporção está abaixo."
   ]
  },
  {
   "cell_type": "code",
   "execution_count": 11,
   "metadata": {},
   "outputs": [
    {
     "name": "stdout",
     "output_type": "stream",
     "text": [
      "Porcentagem de números que não são cinco: 90.96%\n",
      "Porcentagem de números que  são cinco: 9.04%\n"
     ]
    }
   ],
   "source": [
    "print(f'Porcentagem de números que não são cinco: {counts[0]/sum(counts)*100:.2f}%')\n",
    "print(f'Porcentagem de números que  são cinco: {counts[1]/sum(counts)*100:.2f}%')"
   ]
  },
  {
   "cell_type": "markdown",
   "metadata": {},
   "source": [
    "Para verificar a hipótese nula, iremos utilizar a classe `BaseEstimator` do `sklearn` para criar nosso classificador que sempre chuta que o número não é 5."
   ]
  },
  {
   "cell_type": "code",
   "execution_count": 12,
   "metadata": {},
   "outputs": [],
   "source": [
    "from sklearn.base import BaseEstimator\n",
    "\n",
    "\n",
    "class Never5Classifier(BaseEstimator):\n",
    "\n",
    "    def fit(self, X, y=None):\n",
    "        # Nada a ser feito no treinamento.\n",
    "        pass\n",
    "\n",
    "    def predict(self, X):\n",
    "        # Recebe len(X) amostras, chuta \"False\" como resposta para todas!\n",
    "        return [False] * len(X)"
   ]
  },
  {
   "cell_type": "code",
   "execution_count": 13,
   "metadata": {},
   "outputs": [
    {
     "data": {
      "text/plain": [
       "array([0.91125, 0.90855, 0.90915])"
      ]
     },
     "execution_count": 13,
     "metadata": {},
     "output_type": "execute_result"
    }
   ],
   "source": [
    "never_5_clf = Never5Classifier()\n",
    "cross_val_score(\n",
    "    # classificador que sempre chuta que o número não é 5\n",
    "    never_5_clf,\n",
    "\n",
    "    # imagens de treinamento (60 mil)\n",
    "    X_train,\n",
    "\n",
    "    # target modificado para incluir booleanos de se o número é 5 ou não\n",
    "    y_train_5,\n",
    "\n",
    "    # número de repartições da data que está chegando\n",
    "    cv=3,\n",
    "\n",
    "    # devolve a acurácia do modelo\n",
    "    scoring=\"accuracy\",\n",
    "\n",
    "    # rodar mais rápido pois utiliza todos os núcleos da CPU ao mesmo tempo\n",
    "    n_jobs=-1,\n",
    ")"
   ]
  },
  {
   "cell_type": "markdown",
   "metadata": {},
   "source": [
    "Como é evidente na célula acima, temos uma acurácia de 90% se apenas chutarmos que o número não é cinco, independente dele ser ou não. Isso ocorre pois há 10 dígitos no total, e o nosso dataset tem aproximadamente 10% de cada dígito dentro dele."
   ]
  },
  {
   "cell_type": "markdown",
   "metadata": {},
   "source": [
    "# Matriz de Confusão. \n",
    "\n",
    "Essa é uma representação muito interessante para os modelos de classificação binária.\n",
    "\n",
    "As colunas da matriz demonstram a predição do modelo, e as linhas o valor real.\n",
    "\n",
    "A primeira linha indica dígitos \"não-cinco\", e a segunda linha indica os dígitos \"cinco\". Em problemas de classificação binária usamos a terminologia \"negativos\" (os \"não-cinco\") e \"positivos\" (os \"cinco\"), e dizemos também que nosso problema é \"detectar\" os dígitos \"cinco\".\n",
    "\n",
    "- **TP**: Os valores **verdadeiramente positivos** e que foram **preditos como positivos** são os **true positives** (verdadeiros positivos).\n",
    "\n",
    "- **FN**: Os valores **verdadeiramente positivos** e que foram **preditos como negativos** são os **false negatives** (falsos negativos, pois foram errôneamente classificados como negativos).\n",
    "\n",
    "- **TN**: Os valores **verdadeiramente negativos** e que foram **preditos como negativos** são os **true negatives** (verdadeiros negativos).\n",
    "\n",
    "- **FP**: os valores **verdadeiramente negativos** e que foram **preditos como positivos** são os **false positives** (falsos positivos, pois foram errôneamente classificados como positivos).\n"
   ]
  },
  {
   "cell_type": "markdown",
   "metadata": {},
   "source": [
    "|             | Predito como Negativo | Predito como Positivo |\n",
    "| ----------- | ----------- | ----------- |\n",
    "| **Realmente Negativo** | True Negative | False Positive |\n",
    "| **Realmente Positivo** | False Negative | True Positive |"
   ]
  },
  {
   "cell_type": "markdown",
   "metadata": {},
   "source": [
    "Ela é uma ferramenta muito importante para ajudar na visualização do que realmente foi classificado corretamente, o que não foi e quais as proporções."
   ]
  },
  {
   "cell_type": "code",
   "execution_count": 14,
   "metadata": {},
   "outputs": [
    {
     "data": {
      "text/plain": [
       "array([[52316,  2263],\n",
       "       [  601,  4820]], dtype=int64)"
      ]
     },
     "execution_count": 14,
     "metadata": {},
     "output_type": "execute_result"
    }
   ],
   "source": [
    "from sklearn.metrics import confusion_matrix\n",
    "\n",
    "sgd_clf.fit(X_train, y_train_5)\n",
    "y_train_pred = sgd_clf.predict(X_train)\n",
    "mat = confusion_matrix(y_train_5, y_train_pred)\n",
    "mat"
   ]
  },
  {
   "cell_type": "markdown",
   "metadata": {},
   "source": [
    "Ao rodar a célula (que pode demorar bastante), temos uma matriz com as seguintes características. \n",
    "\n",
    "$$\n",
    "\\left(\\begin{array}{cc} \n",
    "52316 & 2263\\\\\n",
    "601 & 4820\n",
    "\\end{array}\\right)\n",
    "$$ \n",
    "\n",
    "São:\n",
    "- *True Negatives* (verdadeiramente negativos):\n",
    "    - 52316 \n",
    "- *False Positives* (falsamente preditos como positivos): \n",
    "    - 2263 \n",
    "- *False Negatives* (erradamente preditos como negativos): \n",
    "    - 601 \n",
    "- *True Positives* (verdadeiramente positivos): \n",
    "    - 4820 \n",
    "\n",
    "Outra representação possível seria: \n",
    "\n",
    "|             | Predito como Negativo | Predito como Positivo |\n",
    "| ----------- | ----------- | ----------- |\n",
    "| **Realmente Negativo** | 52316 | 2263 |\n",
    "| **Realmente Positivo** | 601 | 4820 |"
   ]
  },
  {
   "cell_type": "markdown",
   "metadata": {},
   "source": [
    "# Predição Cruzada - \n",
    "\n",
    "Uma idéia melhor é aplicar o conceito de validação cruzada para realizar a predição de cada amostra. Funciona assim:\n",
    "\n",
    "- Particionamos os dados em N partições.\n",
    "\n",
    "- Para cada partição:\n",
    "\n",
    "    - Treinamos o classificador sobre os dados das outras partições\n",
    "    \n",
    "    - Usamos o classificador para prever as classes das amostras desta partição\n",
    "\n",
    "Por exemplo: suponha que temos 3 partições. As categorias preditas dos objetos da primeira partição são obtidas da seguinte forma:\n",
    "\n",
    "- Treinamos o classificador usando os dados das partições 2 e 3\n",
    "\n",
    "- Aplicamos o classificador para os objetos da partição 1. Guardamos estes resultados\n",
    "\n",
    "Fazemos o mesmo para os objetos das partições 2 e 3. Desta forma, cada objeto foi predito de modo \"honesto\", ou seja, usando um classificador que não continha o próprio objeto como dado de treinamento!\n",
    "\n",
    "O scikit-learn já tem uma função para fazer exatamente isso: `cross_val_predict`"
   ]
  },
  {
   "cell_type": "code",
   "execution_count": 15,
   "metadata": {},
   "outputs": [
    {
     "data": {
      "text/plain": [
       "array([[53892,   687],\n",
       "       [ 1891,  3530]], dtype=int64)"
      ]
     },
     "execution_count": 15,
     "metadata": {},
     "output_type": "execute_result"
    }
   ],
   "source": [
    "from sklearn.model_selection import cross_val_predict\n",
    "from sklearn.linear_model import SGDClassifier\n",
    "from sklearn.metrics import confusion_matrix\n",
    "\n",
    "# Existe aleatoriedade dentro do SGDClassifier, por isso o argumento \n",
    "# random_state=RANDOM_SEED.\n",
    "sgd_clf = SGDClassifier(\n",
    "    # iterações que o código realiza para montar o modelo\n",
    "    max_iter=500,\n",
    "    tol=1e-3,\n",
    "    # colocando a random seed para garantir reprodutibilidade dos dados\n",
    "    random_state=RANDOM_SEED,\n",
    ")\n",
    "\n",
    "# rodando o modelo\n",
    "sgd_clf.fit(X_train, y_train_5)\n",
    "\n",
    "# criando a predição, com 3 repartições para a validação cruzada\n",
    "y_train_pred = cross_val_predict(sgd_clf, X_train, y_train_5, cv=3, n_jobs=-1)\n",
    "\n",
    "# formando a matriz de confusão\n",
    "mat = confusion_matrix(y_train_5, y_train_pred)\n",
    "mat"
   ]
  },
  {
   "cell_type": "code",
   "execution_count": null,
   "metadata": {},
   "outputs": [],
   "source": []
  }
 ],
 "metadata": {
  "kernelspec": {
   "display_name": "env",
   "language": "python",
   "name": "python3"
  },
  "language_info": {
   "codemirror_mode": {
    "name": "ipython",
    "version": 3
   },
   "file_extension": ".py",
   "mimetype": "text/x-python",
   "name": "python",
   "nbconvert_exporter": "python",
   "pygments_lexer": "ipython3",
   "version": "3.10.2"
  },
  "orig_nbformat": 4
 },
 "nbformat": 4,
 "nbformat_minor": 2
}
